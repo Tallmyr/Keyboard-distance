{
 "cells": [
  {
   "attachments": {},
   "cell_type": "markdown",
   "metadata": {},
   "source": [
    "# Set up environment"
   ]
  },
  {
   "cell_type": "code",
   "execution_count": 10,
   "metadata": {},
   "outputs": [
    {
     "ename": "TypeError",
     "evalue": "register() missing 1 required positional argument: 'widget'",
     "output_type": "error",
     "traceback": [
      "\u001b[0;31m---------------------------------------------------------------------------\u001b[0m",
      "\u001b[0;31mTypeError\u001b[0m                                 Traceback (most recent call last)",
      "Cell \u001b[0;32mIn[10], line 4\u001b[0m\n\u001b[1;32m      2\u001b[0m \u001b[39mfrom\u001b[39;00m \u001b[39mtyping\u001b[39;00m \u001b[39mimport\u001b[39;00m Tuple\n\u001b[1;32m      3\u001b[0m \u001b[39mimport\u001b[39;00m \u001b[39mpandas\u001b[39;00m \u001b[39mas\u001b[39;00m \u001b[39mpd\u001b[39;00m\n\u001b[0;32m----> 4\u001b[0m \u001b[39mimport\u001b[39;00m \u001b[39mqgrid\u001b[39;00m\n",
      "File \u001b[0;32m~/.cache/pypoetry/virtualenvs/keyboard-distance-D-UbLyxW-py3.11/lib/python3.11/site-packages/qgrid/__init__.py:3\u001b[0m\n\u001b[1;32m      1\u001b[0m \u001b[39mfrom\u001b[39;00m \u001b[39m.\u001b[39;00m\u001b[39m_version\u001b[39;00m \u001b[39mimport\u001b[39;00m version_info, __version__  \u001b[39m# noqa F401\u001b[39;00m\n\u001b[0;32m----> 3\u001b[0m \u001b[39mfrom\u001b[39;00m \u001b[39m.\u001b[39;00m\u001b[39mgrid\u001b[39;00m \u001b[39mimport\u001b[39;00m (\n\u001b[1;32m      4\u001b[0m     enable,\n\u001b[1;32m      5\u001b[0m     disable,\n\u001b[1;32m      6\u001b[0m     set_defaults,\n\u001b[1;32m      7\u001b[0m     on,\n\u001b[1;32m      8\u001b[0m     off,\n\u001b[1;32m      9\u001b[0m     set_grid_option,\n\u001b[1;32m     10\u001b[0m     show_grid,\n\u001b[1;32m     11\u001b[0m     QgridWidget,\n\u001b[1;32m     12\u001b[0m     QGridWidget,\n\u001b[1;32m     13\u001b[0m )\n\u001b[1;32m     16\u001b[0m \u001b[39mdef\u001b[39;00m \u001b[39m_jupyter_nbextension_paths\u001b[39m():\n\u001b[1;32m     17\u001b[0m     \u001b[39mreturn\u001b[39;00m [\n\u001b[1;32m     18\u001b[0m         {\n\u001b[1;32m     19\u001b[0m             \u001b[39m\"\u001b[39m\u001b[39msection\u001b[39m\u001b[39m\"\u001b[39m: \u001b[39m\"\u001b[39m\u001b[39mnotebook\u001b[39m\u001b[39m\"\u001b[39m,\n\u001b[0;32m   (...)\u001b[0m\n\u001b[1;32m     23\u001b[0m         }\n\u001b[1;32m     24\u001b[0m     ]\n",
      "File \u001b[0;32m~/.cache/pypoetry/virtualenvs/keyboard-distance-D-UbLyxW-py3.11/lib/python3.11/site-packages/qgrid/grid.py:524\u001b[0m\n\u001b[1;32m    520\u001b[0m     \u001b[39melse\u001b[39;00m:\n\u001b[1;32m    521\u001b[0m         \u001b[39mreturn\u001b[39;00m \u001b[39mstr\u001b[39m(x)\n\u001b[0;32m--> 524\u001b[0m \u001b[39m@widgets\u001b[39m\u001b[39m.\u001b[39;49mregister()\n\u001b[1;32m    525\u001b[0m \u001b[39mclass\u001b[39;00m \u001b[39mQgridWidget\u001b[39;00m(widgets\u001b[39m.\u001b[39mDOMWidget):\n\u001b[1;32m    526\u001b[0m \u001b[39m    \u001b[39m\u001b[39m\"\"\"\u001b[39;00m\n\u001b[1;32m    527\u001b[0m \u001b[39m    The widget class which is instantiated by the ``show_grid`` method. This\u001b[39;00m\n\u001b[1;32m    528\u001b[0m \u001b[39m    class can be constructed directly but that's not recommended because\u001b[39;00m\n\u001b[0;32m   (...)\u001b[0m\n\u001b[1;32m    562\u001b[0m \n\u001b[1;32m    563\u001b[0m \u001b[39m    \"\"\"\u001b[39;00m\n\u001b[1;32m    565\u001b[0m     _view_name \u001b[39m=\u001b[39m Unicode(\u001b[39m'\u001b[39m\u001b[39mQgridView\u001b[39m\u001b[39m'\u001b[39m)\u001b[39m.\u001b[39mtag(sync\u001b[39m=\u001b[39m\u001b[39mTrue\u001b[39;00m)\n",
      "\u001b[0;31mTypeError\u001b[0m: register() missing 1 required positional argument: 'widget'"
     ]
    }
   ],
   "source": [
    "import math\n",
    "from typing import Tuple\n",
    "import pandas as pd"
   ]
  },
  {
   "attachments": {},
   "cell_type": "markdown",
   "metadata": {},
   "source": [
    "# Add Dict"
   ]
  },
  {
   "cell_type": "code",
   "execution_count": null,
   "metadata": {},
   "outputs": [],
   "source": [
    "KEYBOARD: dict[str, Tuple[float, float]] = {\n",
    "    \"Q\": (0, 0),\n",
    "    \"W\": (0, 1),\n",
    "    \"E\": (0, 2),\n",
    "    \"R\": (0, 3),\n",
    "    \"T\": (0, 4),\n",
    "    \"Y\": (0, 5),\n",
    "    \"U\": (0, 6),\n",
    "    \"I\": (0, 7),\n",
    "    \"O\": (0, 8),\n",
    "    \"P\": (0, 9),\n",
    "    \"A\": (1, 0.33),\n",
    "    \"S\": (1, 1.33),\n",
    "    \"D\": (1, 2.33),\n",
    "    \"F\": (1, 3.33),\n",
    "    \"G\": (1, 4.33),\n",
    "    \"H\": (1, 5.33),\n",
    "    \"J\": (1, 6.33),\n",
    "    \"K\": (1, 7.33),\n",
    "    \"L\": (1, 8.33),\n",
    "    \"Z\": (2, 0.66),\n",
    "    \"X\": (2, 1.66),\n",
    "    \"C\": (2, 2.66),\n",
    "    \"V\": (2, 3.66),\n",
    "    \"B\": (2, 4.66),\n",
    "    \"N\": (2, 5.66),\n",
    "    \"M\": (2, 6.66),\n",
    "}\n"
   ]
  },
  {
   "attachments": {},
   "cell_type": "markdown",
   "metadata": {},
   "source": [
    "# Setup Functions"
   ]
  },
  {
   "cell_type": "code",
   "execution_count": null,
   "metadata": {},
   "outputs": [],
   "source": [
    "def find_distance(first: str, second: str) -> float:\n",
    "    a: Tuple[float, float] = KEYBOARD[first]\n",
    "    b: Tuple(float, float) = KEYBOARD[second]\n",
    "\n",
    "    return math.dist(a, b)\n",
    "\n",
    "\n",
    "def check_word(word) -> float:\n",
    "    return sum(find_distance(letter, word[i + 1]) for i, letter in enumerate(word[:-1]))"
   ]
  },
  {
   "attachments": {},
   "cell_type": "markdown",
   "metadata": {},
   "source": [
    "# Read file and create dataframe"
   ]
  },
  {
   "cell_type": "code",
   "execution_count": null,
   "metadata": {},
   "outputs": [],
   "source": [
    "# read in wordlist\n",
    "filename: str = \"app/static/wordlist.txt\"\n",
    "wordlist: list[str] = open(filename, \"r\").read().split(\"\\n\")\n",
    "\n",
    "# Remove short and long words (), and capitalize\n",
    "wordlist = [\n",
    "    word.upper() for word in wordlist if len(word) > 2\n",
    "]\n",
    "words = {\"Word\": [], \"Length\": [], \"Distance\": [], \"Average\": []}\n",
    "for word in wordlist:\n",
    "    length = len(word)\n",
    "    distance = check_word(word)\n",
    "    words[\"Word\"].append(word)\n",
    "    words[\"Length\"].append(length)\n",
    "    words[\"Distance\"].append(distance)\n",
    "    words[\"Average\"].append(distance/length)\n",
    "dataframe = pd.DataFrame.from_dict(words)"
   ]
  },
  {
   "attachments": {},
   "cell_type": "markdown",
   "metadata": {},
   "source": [
    "# modify dataframe"
   ]
  },
  {
   "cell_type": "code",
   "execution_count": null,
   "metadata": {},
   "outputs": [
    {
     "ename": "NameError",
     "evalue": "name 'dataframe' is not defined",
     "output_type": "error",
     "traceback": [
      "\u001b[0;31m---------------------------------------------------------------------------\u001b[0m",
      "\u001b[0;31mNameError\u001b[0m                                 Traceback (most recent call last)",
      "Cell \u001b[0;32mIn[2], line 1\u001b[0m\n\u001b[0;32m----> 1\u001b[0m dataframe\u001b[39m.\u001b[39msort_values(by\u001b[39m=\u001b[39m\u001b[39m\"\u001b[39m\u001b[39mAverage\u001b[39m\u001b[39m\"\u001b[39m)\n\u001b[1;32m      2\u001b[0m qgrid\u001b[39m.\u001b[39mshow_grid(dataframe)\n",
      "\u001b[0;31mNameError\u001b[0m: name 'dataframe' is not defined"
     ]
    }
   ],
   "source": [
    "dataframe.sort_values(by=\"Average\")\n",
    "qgrid.show_grid(dataframe)"
   ]
  }
 ],
 "metadata": {
  "kernelspec": {
   "display_name": "keyboard-distance-D-UbLyxW-py3.11",
   "language": "python",
   "name": "python3"
  },
  "language_info": {
   "codemirror_mode": {
    "name": "ipython",
    "version": 3
   },
   "file_extension": ".py",
   "mimetype": "text/x-python",
   "name": "python",
   "nbconvert_exporter": "python",
   "pygments_lexer": "ipython3",
   "version": "3.11.1"
  },
  "orig_nbformat": 4,
  "vscode": {
   "interpreter": {
    "hash": "6e6027bebb5b5efad0ce6b5f73ccd16ac220f041e67a812c6f333d526a8da6eb"
   }
  }
 },
 "nbformat": 4,
 "nbformat_minor": 2
}
